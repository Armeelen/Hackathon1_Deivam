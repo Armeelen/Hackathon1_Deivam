{
 "cells": [
  {
   "cell_type": "code",
   "execution_count": 38,
   "metadata": {},
   "outputs": [
    {
     "ename": "AttributeError",
     "evalue": "partially initialized module 'nltk' has no attribute 'data' (most likely due to a circular import)",
     "output_type": "error",
     "traceback": [
      "\u001b[1;31m---------------------------------------------------------------------------\u001b[0m",
      "\u001b[1;31mAttributeError\u001b[0m                            Traceback (most recent call last)",
      "Cell \u001b[1;32mIn[38], line 5\u001b[0m\n\u001b[0;32m      3\u001b[0m \u001b[38;5;28;01mimport\u001b[39;00m \u001b[38;5;21;01mre\u001b[39;00m\n\u001b[0;32m      4\u001b[0m \u001b[38;5;28;01mimport\u001b[39;00m \u001b[38;5;21;01mstring\u001b[39;00m\n\u001b[1;32m----> 5\u001b[0m \u001b[38;5;28;01mimport\u001b[39;00m \u001b[38;5;21;01mnltk\u001b[39;00m\n\u001b[0;32m      6\u001b[0m \u001b[38;5;28;01mimport\u001b[39;00m \u001b[38;5;21;01mmatplotlib\u001b[39;00m\u001b[38;5;21;01m.\u001b[39;00m\u001b[38;5;21;01mpyplot\u001b[39;00m \u001b[38;5;28;01mas\u001b[39;00m \u001b[38;5;21;01mplt\u001b[39;00m\n\u001b[0;32m      7\u001b[0m \u001b[38;5;28;01mfrom\u001b[39;00m \u001b[38;5;21;01msklearn\u001b[39;00m\u001b[38;5;21;01m.\u001b[39;00m\u001b[38;5;21;01mdecomposition\u001b[39;00m \u001b[38;5;28;01mimport\u001b[39;00m TruncatedSVD,PCA\n",
      "File \u001b[1;32mc:\\Users\\User\\AppData\\Local\\Programs\\Python\\Python312\\Lib\\site-packages\\nltk\\__init__.py:180\u001b[0m\n\u001b[0;32m    177\u001b[0m \u001b[38;5;28;01melse\u001b[39;00m:\n\u001b[0;32m    178\u001b[0m     \u001b[38;5;28;01mfrom\u001b[39;00m \u001b[38;5;21;01mnltk\u001b[39;00m \u001b[38;5;28;01mimport\u001b[39;00m cluster\n\u001b[1;32m--> 180\u001b[0m \u001b[38;5;28;01mfrom\u001b[39;00m \u001b[38;5;21;01mnltk\u001b[39;00m\u001b[38;5;21;01m.\u001b[39;00m\u001b[38;5;21;01mdownloader\u001b[39;00m \u001b[38;5;28;01mimport\u001b[39;00m download, download_shell\n\u001b[0;32m    182\u001b[0m \u001b[38;5;28;01mtry\u001b[39;00m:\n\u001b[0;32m    183\u001b[0m     \u001b[38;5;28;01mimport\u001b[39;00m \u001b[38;5;21;01mtkinter\u001b[39;00m\n",
      "File \u001b[1;32mc:\\Users\\User\\AppData\\Local\\Programs\\Python\\Python312\\Lib\\site-packages\\nltk\\downloader.py:2475\u001b[0m\n\u001b[0;32m   2465\u001b[0m             \u001b[38;5;28;01mpass\u001b[39;00m\n\u001b[0;32m   2468\u001b[0m \u001b[38;5;66;03m######################################################################\u001b[39;00m\n\u001b[0;32m   2469\u001b[0m \u001b[38;5;66;03m# Main:\u001b[39;00m\n\u001b[0;32m   2470\u001b[0m \u001b[38;5;66;03m######################################################################\u001b[39;00m\n\u001b[1;32m   (...)\u001b[0m\n\u001b[0;32m   2473\u001b[0m \n\u001b[0;32m   2474\u001b[0m \u001b[38;5;66;03m# Aliases\u001b[39;00m\n\u001b[1;32m-> 2475\u001b[0m _downloader \u001b[38;5;241m=\u001b[39m \u001b[43mDownloader\u001b[49m\u001b[43m(\u001b[49m\u001b[43m)\u001b[49m\n\u001b[0;32m   2476\u001b[0m download \u001b[38;5;241m=\u001b[39m _downloader\u001b[38;5;241m.\u001b[39mdownload\n\u001b[0;32m   2479\u001b[0m \u001b[38;5;28;01mdef\u001b[39;00m \u001b[38;5;21mdownload_shell\u001b[39m():\n",
      "File \u001b[1;32mc:\\Users\\User\\AppData\\Local\\Programs\\Python\\Python312\\Lib\\site-packages\\nltk\\downloader.py:515\u001b[0m, in \u001b[0;36mDownloader.__init__\u001b[1;34m(self, server_index_url, download_dir)\u001b[0m\n\u001b[0;32m    513\u001b[0m \u001b[38;5;66;03m# decide where we're going to save things to.\u001b[39;00m\n\u001b[0;32m    514\u001b[0m \u001b[38;5;28;01mif\u001b[39;00m \u001b[38;5;28mself\u001b[39m\u001b[38;5;241m.\u001b[39m_download_dir \u001b[38;5;129;01mis\u001b[39;00m \u001b[38;5;28;01mNone\u001b[39;00m:\n\u001b[1;32m--> 515\u001b[0m     \u001b[38;5;28mself\u001b[39m\u001b[38;5;241m.\u001b[39m_download_dir \u001b[38;5;241m=\u001b[39m \u001b[38;5;28;43mself\u001b[39;49m\u001b[38;5;241;43m.\u001b[39;49m\u001b[43mdefault_download_dir\u001b[49m\u001b[43m(\u001b[49m\u001b[43m)\u001b[49m\n",
      "File \u001b[1;32mc:\\Users\\User\\AppData\\Local\\Programs\\Python\\Python312\\Lib\\site-packages\\nltk\\downloader.py:1068\u001b[0m, in \u001b[0;36mDownloader.default_download_dir\u001b[1;34m(self)\u001b[0m\n\u001b[0;32m   1064\u001b[0m     \u001b[38;5;28;01mreturn\u001b[39;00m\n\u001b[0;32m   1066\u001b[0m \u001b[38;5;66;03m# Check if we have sufficient permissions to install in a\u001b[39;00m\n\u001b[0;32m   1067\u001b[0m \u001b[38;5;66;03m# variety of system-wide locations.\u001b[39;00m\n\u001b[1;32m-> 1068\u001b[0m \u001b[38;5;28;01mfor\u001b[39;00m nltkdir \u001b[38;5;129;01min\u001b[39;00m \u001b[43mnltk\u001b[49m\u001b[38;5;241;43m.\u001b[39;49m\u001b[43mdata\u001b[49m\u001b[38;5;241m.\u001b[39mpath:\n\u001b[0;32m   1069\u001b[0m     \u001b[38;5;28;01mif\u001b[39;00m os\u001b[38;5;241m.\u001b[39mpath\u001b[38;5;241m.\u001b[39mexists(nltkdir) \u001b[38;5;129;01mand\u001b[39;00m nltk\u001b[38;5;241m.\u001b[39minternals\u001b[38;5;241m.\u001b[39mis_writable(nltkdir):\n\u001b[0;32m   1070\u001b[0m         \u001b[38;5;28;01mreturn\u001b[39;00m nltkdir\n",
      "\u001b[1;31mAttributeError\u001b[0m: partially initialized module 'nltk' has no attribute 'data' (most likely due to a circular import)"
     ]
    }
   ],
   "source": [
    "import numpy as np \n",
    "import pandas as pd \n",
    "import re\n",
    "import string\n",
    "import nltk\n",
    "import matplotlib.pyplot as plt\n",
    "from sklearn.decomposition import TruncatedSVD,PCA\n",
    "from sklearn.feature_extraction.text import CountVectorizer\n",
    "nltk.download('vader_lexicon')\n",
    "from sklearn.cluster import KMeans\n",
    "from nltk.sentiment.vader import SentimentIntensityAnalyzer as SIA\n",
    "from wordcloud import WordCloud,STOPWORDS\n",
    "from nltk.util import ngrams\n",
    "from nltk import word_tokenize\n",
    "from nltk.stem import PorterStemmer\n",
    "from nltk.stem import WordNetLemmatizer\n",
    "import random\n",
    "plt.rc('figure',figsize=(17,13))"
   ]
  },
  {
   "cell_type": "code",
   "execution_count": 40,
   "metadata": {},
   "outputs": [],
   "source": [
    "df = pd.read_csv('vaccination_tweets.csv')"
   ]
  },
  {
   "cell_type": "code",
   "execution_count": 41,
   "metadata": {},
   "outputs": [
    {
     "name": "stderr",
     "output_type": "stream",
     "text": [
      "<>:1: SyntaxWarning: invalid escape sequence '\\s'\n",
      "<>:1: SyntaxWarning: invalid escape sequence '\\s'\n",
      "C:\\Users\\User\\AppData\\Local\\Temp\\ipykernel_16964\\3306716765.py:1: SyntaxWarning: invalid escape sequence '\\s'\n",
      "  df.text = df.text.apply(lambda x:re.sub('@[^\\s]+','',x))\n"
     ]
    },
    {
     "ename": "SyntaxError",
     "evalue": "invalid non-printable character U+00A0 (3306716765.py, line 17)",
     "output_type": "error",
     "traceback": [
      "\u001b[1;36m  Cell \u001b[1;32mIn[41], line 17\u001b[1;36m\u001b[0m\n\u001b[1;33m    df.text = df.text.apply(lambda x:re.sub(r'\\s+', ' ', x, flags=re.I))\u001b[0m\n\u001b[1;37m                                                        ^\u001b[0m\n\u001b[1;31mSyntaxError\u001b[0m\u001b[1;31m:\u001b[0m invalid non-printable character U+00A0\n"
     ]
    }
   ],
   "source": [
    "df.text = df.text.apply(lambda x:re.sub('@[^\\s]+','',x))\n",
    "\n",
    "#remove hashtags\n",
    "df.text = df.text.apply(lambda x:re.sub(r'\\B#\\S+','',x))\n",
    "\n",
    "\n",
    "# Remove URLS\n",
    "df.text = df.text.apply(lambda x:re.sub(r\"http\\S+\", \"\", x))\n",
    "\n",
    "# Remove all the special characters\n",
    "df.text = df.text.apply(lambda x:' '.join(re.findall(r'\\w+', x)))\n",
    "\n",
    "#remove all single characters\n",
    "df.text = df.text.apply(lambda x:re.sub(r'\\s+[a-zA-Z]\\s+', '', x))\n",
    "\n",
    "# Substituting multiple spaces with single space\n",
    "df.text = df.text.apply(lambda x:re.sub(r'\\s+', ' ', x, flags=re.I))"
   ]
  },
  {
   "cell_type": "code",
   "execution_count": 42,
   "metadata": {},
   "outputs": [
    {
     "data": {
      "text/plain": [
       "<bound method NDFrame.head of                         id             user_name              user_location  \\\n",
       "0      1340539111971516416            Rachel Roh  La Crescenta-Montrose, CA   \n",
       "1      1338158543359250433           Albert Fong          San Francisco, CA   \n",
       "2      1337858199140118533              eli🇱🇹🇪🇺👌                   Your Bed   \n",
       "3      1337855739918835717         Charles Adler     Vancouver, BC - Canada   \n",
       "4      1337854064604966912  Citizen News Channel                        NaN   \n",
       "...                    ...                   ...                        ...   \n",
       "11015  1460932683630977025                theSun              Petaling Jaya   \n",
       "11016  1460809350792896516                 Sujan                        NaN   \n",
       "11017  1460581918295031809                theSun              Petaling Jaya   \n",
       "11018  1460344277951782922      Aleksejs Jackovs                    Ireland   \n",
       "11019  1460208097956225028                theSun              Petaling Jaya   \n",
       "\n",
       "                                        user_description         user_created  \\\n",
       "0      Aggregator of Asian American news; scanning di...  2009-04-08 17:52:46   \n",
       "1      Marketing dude, tech geek, heavy metal & '80s ...  2009-09-21 15:27:30   \n",
       "2                                         heil, hydra 🖐☺  2020-06-25 23:30:28   \n",
       "3      Hosting \"CharlesAdlerTonight\" Global News Radi...  2008-09-10 11:28:53   \n",
       "4      Citizen News Channel bringing you an alternati...  2020-04-23 17:58:42   \n",
       "...                                                  ...                  ...   \n",
       "11015  Breaking news updates from the website of Mala...  2009-07-29 01:58:44   \n",
       "11016  ________________________ •Napricorn• •It's jus...  2013-01-28 11:48:20   \n",
       "11017  Breaking news updates from the website of Mala...  2009-07-29 01:58:44   \n",
       "11018  #Scientificresearcher in #InformationTechnolog...  2012-08-13 13:47:03   \n",
       "11019  Breaking news updates from the website of Mala...  2009-07-29 01:58:44   \n",
       "\n",
       "       user_followers  user_friends  user_favourites  user_verified  \\\n",
       "0                 405          1692             3247          False   \n",
       "1                 834           666              178          False   \n",
       "2                  10            88              155          False   \n",
       "3               49165          3933            21853           True   \n",
       "4                 152           580             1473          False   \n",
       "...               ...           ...              ...            ...   \n",
       "11015          151937           465              593          False   \n",
       "11016            4259           622           156941          False   \n",
       "11017          151937           465              593          False   \n",
       "11018               1            38               99          False   \n",
       "11019          151937           465              593          False   \n",
       "\n",
       "                      date                                               text  \\\n",
       "0      2020-12-20 06:06:44  Same folks said daikon paste could treat a cyt...   \n",
       "1      2020-12-13 16:27:13  While the world has been on the wrong side of ...   \n",
       "2      2020-12-12 20:33:45  #coronavirus #SputnikV #AstraZeneca #PfizerBio...   \n",
       "3      2020-12-12 20:23:59  Facts are immutable, Senator, even when you're...   \n",
       "4      2020-12-12 20:17:19  Explain to me again why we need a vaccine @Bor...   \n",
       "...                    ...                                                ...   \n",
       "11015  2021-11-17 11:27:49  The number of Covid-19 cases today, 17 Novembe...   \n",
       "11016  2021-11-17 03:17:44                      First dose ✅\\n#PfizerBioNTech   \n",
       "11017  2021-11-16 12:14:00  The number of Covid-19 cases today, 16 Novembe...   \n",
       "11018  2021-11-15 20:29:42  #PfizerBioNTech has developed new pill #Paxlov...   \n",
       "11019  2021-11-15 11:28:34  The number of Covid-19 cases today, 15 Novembe...   \n",
       "\n",
       "                                                hashtags               source  \\\n",
       "0                                     ['PfizerBioNTech']  Twitter for Android   \n",
       "1                                                    NaN      Twitter Web App   \n",
       "2      ['coronavirus', 'SputnikV', 'AstraZeneca', 'Pf...  Twitter for Android   \n",
       "3                                                    NaN      Twitter Web App   \n",
       "4         ['whereareallthesickpeople', 'PfizerBioNTech']   Twitter for iPhone   \n",
       "...                                                  ...                  ...   \n",
       "11015                                                NaN      Twitter Web App   \n",
       "11016                                 ['PfizerBioNTech']  Twitter for Android   \n",
       "11017                                                NaN      Twitter Web App   \n",
       "11018          ['PfizerBioNTech', 'Paxlovid', 'COVID19']      Twitter Web App   \n",
       "11019                                                NaN      Twitter Web App   \n",
       "\n",
       "       retweets  favorites  is_retweet  \n",
       "0             0          0       False  \n",
       "1             1          1       False  \n",
       "2             0          0       False  \n",
       "3           446       2129       False  \n",
       "4             0          0       False  \n",
       "...         ...        ...         ...  \n",
       "11015         2          6       False  \n",
       "11016         0          4       False  \n",
       "11017         3          5       False  \n",
       "11018         1          1       False  \n",
       "11019         2          6       False  \n",
       "\n",
       "[11020 rows x 16 columns]>"
      ]
     },
     "execution_count": 42,
     "metadata": {},
     "output_type": "execute_result"
    }
   ],
   "source": [
    "df.head"
   ]
  },
  {
   "cell_type": "code",
   "execution_count": 47,
   "metadata": {},
   "outputs": [
    {
     "data": {
      "text/plain": [
       "Index(['id', 'user_name', 'user_location', 'user_description', 'user_created',\n",
       "       'user_followers', 'user_friends', 'user_favourites', 'user_verified',\n",
       "       'date', 'text', 'hashtags', 'source', 'retweets', 'favorites',\n",
       "       'is_retweet'],\n",
       "      dtype='object')"
      ]
     },
     "execution_count": 47,
     "metadata": {},
     "output_type": "execute_result"
    }
   ],
   "source": [
    "df.columns"
   ]
  }
 ],
 "metadata": {
  "kernelspec": {
   "display_name": "Python 3",
   "language": "python",
   "name": "python3"
  },
  "language_info": {
   "codemirror_mode": {
    "name": "ipython",
    "version": 3
   },
   "file_extension": ".py",
   "mimetype": "text/x-python",
   "name": "python",
   "nbconvert_exporter": "python",
   "pygments_lexer": "ipython3",
   "version": "3.12.3"
  }
 },
 "nbformat": 4,
 "nbformat_minor": 2
}
